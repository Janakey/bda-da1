{
 "cells": [
  {
   "cell_type": "code",
   "execution_count": 2,
   "metadata": {},
   "outputs": [
    {
     "name": "stderr",
     "output_type": "stream",
     "text": [
      "C:\\Users\\Dell\\AppData\\Local\\Temp\\ipykernel_16968\\3139191226.py:8: FutureWarning: DataFrame.applymap has been deprecated. Use DataFrame.map instead.\n",
      "  sales = sales.applymap(lambda x: x.strip() if isinstance(x, str) else x)\n"
     ]
    },
    {
     "name": "stdout",
     "output_type": "stream",
     "text": [
      "Total profit and quantity sold by category:\n",
      "      catégorie  total_profit  total_quantity\n",
      "0  Alimentation  5.347720e+06           52038\n",
      "1        Sports  5.382110e+06           52716\n",
      "2     Vêtements  5.352043e+06           52271\n",
      "3  Électronique  5.356196e+06           52054\n",
      "\n",
      "Category with the highest profit:\n",
      "Sports with profit: 5382109.6189\n"
     ]
    }
   ],
   "source": [
    "import pandas as pd\n",
    "\n",
    "\n",
    "file_path = 'sales_data.csv'  \n",
    "sales = pd.read_csv(file_path)\n",
    "\n",
    "sales = sales.applymap(lambda x: x.strip() if isinstance(x, str) else x)\n",
    "\n",
    "sales['Quantity Ordered'] = pd.to_numeric(sales['Quantity Ordered'], errors='coerce')\n",
    "sales['Price Each'] = pd.to_numeric(sales['Price Each'], errors='coerce')\n",
    "sales['Cost price'] = pd.to_numeric(sales['Cost price'], errors='coerce')\n",
    "\n",
    "# Calculate profit for each order\n",
    "sales['Profit'] = (sales['Price Each'] - sales['Cost price']) * sales['Quantity Ordered']\n",
    "\n",
    "# Mapping: Group by 'catégorie' and calculate the total profit and total quantity sold per category\n",
    "category_data = sales.groupby('catégorie').agg(\n",
    "    total_profit=pd.NamedAgg(column='Profit', aggfunc='sum'),\n",
    "    total_quantity=pd.NamedAgg(column='Quantity Ordered', aggfunc='sum')\n",
    ").reset_index()\n",
    "\n",
    "# Reducing Find the category with the highest profit\n",
    "highest_profit_category = category_data.loc[category_data['total_profit'].idxmax()]\n",
    "\n",
    "# Output the results\n",
    "print(\"Total profit and quantity sold by category:\")\n",
    "print(category_data)\n",
    "print(\"\\nCategory with the highest profit:\")\n",
    "print(highest_profit_category['catégorie'], \"with profit:\", highest_profit_category['total_profit'])\n"
   ]
  }
 ],
 "metadata": {
  "kernelspec": {
   "display_name": "Python 3",
   "language": "python",
   "name": "python3"
  },
  "language_info": {
   "codemirror_mode": {
    "name": "ipython",
    "version": 3
   },
   "file_extension": ".py",
   "mimetype": "text/x-python",
   "name": "python",
   "nbconvert_exporter": "python",
   "pygments_lexer": "ipython3",
   "version": "3.11.9"
  }
 },
 "nbformat": 4,
 "nbformat_minor": 2
}
