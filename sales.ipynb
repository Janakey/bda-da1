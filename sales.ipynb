{
 "cells": [
  {
   "cell_type": "code",
   "execution_count": null,
   "metadata": {},
   "outputs": [],
   "source": [
    "import pandas as pd\n",
    "\n",
    "# Load the CSV file into a DataFrame\n",
    "file_path = 'sales_data.csv'  # Adjust the path as needed\n",
    "sales = pd.read_csv(file_path)\n",
    "\n",
    "# Data Cleanup: Strip whitespace from all string columns to avoid parsing errors\n",
    "sales = sales.applymap(lambda x: x.strip() if isinstance(x, str) else x)\n",
    "\n",
    "# Convert necessary columns to numeric, handling errors (if needed)\n",
    "sales['Quantity Ordered'] = pd.to_numeric(sales['Quantity Ordered'], errors='coerce')\n",
    "sales['Price Each'] = pd.to_numeric(sales['Price Each'], errors='coerce')\n",
    "sales['Cost price'] = pd.to_numeric(sales['Cost price'], errors='coerce')\n",
    "\n",
    "# Calculate profit for each order\n",
    "sales['Profit'] = (sales['Price Each'] - sales['Cost price']) * sales['Quantity Ordered']\n",
    "\n",
    "# Mapping: Group by 'catégorie' and calculate the total profit and total quantity sold per category\n",
    "category_data = sales.groupby('catégorie').agg(\n",
    "    total_profit=pd.NamedAgg(column='Profit', aggfunc='sum'),\n",
    "    total_quantity=pd.NamedAgg(column='Quantity Ordered', aggfunc='sum')\n",
    ").reset_index()\n",
    "\n",
    "# Find the category with the highest profit\n",
    "highest_profit_category = category_data.loc[category_data['total_profit'].idxmax()]\n",
    "\n",
    "# Output the results\n",
    "print(\"Total profit and quantity sold by category:\")\n",
    "print(category_data)\n",
    "print(\"\\nCategory with the highest profit:\")\n",
    "print(highest_profit_category['catégorie'], \"with profit:\", highest_profit_category['total_profit'])\n"
   ]
  }
 ],
 "metadata": {
  "language_info": {
   "name": "python"
  }
 },
 "nbformat": 4,
 "nbformat_minor": 2
}
